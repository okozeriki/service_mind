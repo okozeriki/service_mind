{
 "cells": [
  {
   "cell_type": "code",
   "execution_count": 38,
   "metadata": {},
   "outputs": [],
   "source": [
    "import pandas as pd\n",
    "import japanize_matplotlib"
   ]
  },
  {
   "attachments": {},
   "cell_type": "markdown",
   "metadata": {},
   "source": [
    "# 前処理"
   ]
  },
  {
   "cell_type": "code",
   "execution_count": 40,
   "metadata": {},
   "outputs": [],
   "source": [
    "df = pd.read_csv('../data/0617_result_question.csv')\n",
    "#列名クラスと人を消したい\n",
    "\n",
    "#点数が高いほど、遅延したくなる\n",
    "df[\"2-1\"] = df[\"2-1\"].map(lambda x:5-x)\n",
    "df[\"2-3\"] = df[\"2-3\"].map(lambda x:5-x)\n",
    "df[\"2-7\"] = df[\"2-7\"].map(lambda x:5-x)\n",
    "df[\"3-4.国\"] = df[\"3-4.国\"].map(lambda x:5-x)\n",
    "df[\"3-5.国\"] = df[\"3-5.国\"].map(lambda x:5-x)\n",
    "df[\"3-4.英\"] = df[\"3-4.英\"].map(lambda x:5-x)\n",
    "df[\"3-5.英\"] = df[\"3-5.英\"].map(lambda x:5-x)\n",
    "df[\"3-4.数\"] = df[\"3-4.数\"].map(lambda x:5-x)\n",
    "df[\"3-5.数\"] = df[\"3-5.数\"].map(lambda x:5-x)\n",
    "\n",
    "df = df.drop(['クラス', '人'], axis=1)\n",
    "df_math = df[[ '学年', '性別', '2-1', '2-2', '2-3', '2-4', '2-5', '2-6', '2-7', '3-1.数学', '3-2.数',\n",
    "       '3-3.数', '3-4.数', '3-5.数']]\n",
    "\n",
    "df_english = df[['学年', '性別', '2-1', '2-2', '2-3', '2-4', '2-5', '2-6', '2-7', '3-1.英語',  '3-2.英',  '3-3.英', '3-4.英', '3-5.英']]\n",
    "df_japanese = df[['学年', '性別', '2-1', '2-2', '2-3', '2-4', '2-5', '2-6', '2-7', '3-1.国',  '3-2.国',  '3-3.国', '3-4.国', '3-5.国']]\n",
    "\n",
    "#MBTI列以外で欠損ちがある行を削除\n",
    "df_math = df_math.dropna(subset=['学年', '性別', '2-1', '2-2', '2-3', '2-4', '2-5', '2-6', '2-7', '3-1.数学', '3-2.数','3-3.数', '3-4.数', '3-5.数'])\n",
    "#MBTI列以外で欠損ちがある行を削除\n",
    "df_english = df_english.dropna(subset=['学年', '性別', '2-1', '2-2', '2-3', '2-4', '2-5', '2-6', '2-7', '3-1.英語',  '3-2.英',  '3-3.英', '3-4.英', '3-5.英'])\n",
    "#MBTI列以外で欠損ちがある行を削除\n",
    "df_japanese = df_japanese.dropna(subset=['学年', '性別', '2-1', '2-2', '2-3', '2-4', '2-5', '2-6', '2-7', '3-1.国',  '3-2.国',  '3-3.国', '3-4.国', '3-5.国'])\n",
    "\n",
    "#数学のデータフレームを作成\n",
    "df_math[\"Y_math\"] = df_math[\"3-1.数学\"].map(lambda x: 1 if x == \"土\" or x == \"未\"  else 0)\n",
    "df_math = df_math.drop(\"3-1.数学\", axis=1)\n",
    "df_math = df_math.astype(int)\n",
    "df_math = df_math.reset_index(drop=True)\n",
    "\n",
    "#英語のデータフレームを作成\n",
    "df_english[\"Y_english\"] = df_english[\"3-1.英語\"].map(lambda x: 1 if x == \"土\" or x == \"未\"  else 0)\n",
    "df_english = df_english.drop(\"3-1.英語\", axis=1)\n",
    "df_english = df_english.astype(int)\n",
    "df_english = df_english.reset_index(drop=True)\n",
    "\n",
    "#国語のデータフレームを作成\n",
    "df_japanese[\"Y_japanese\"] = df_japanese[\"3-1.国\"].map(lambda x: 1 if x == \"土\" or x == \"未\"  else 0)\n",
    "df_japanese = df_japanese.drop(\"3-1.国\", axis=1)\n",
    "df_japanese = df_japanese.astype(int)\n",
    "df_japanese = df_japanese.reset_index(drop=True)"
   ]
  },
  {
   "attachments": {},
   "cell_type": "markdown",
   "metadata": {},
   "source": [
    "# 因子分析(バリマックス回転)"
   ]
  },
  {
   "cell_type": "code",
   "execution_count": 41,
   "metadata": {},
   "outputs": [
    {
     "name": "stdout",
     "output_type": "stream",
     "text": [
      "            第1因子      第2因子      第3因子\n",
      "学年      0.036164 -0.217001 -0.750266\n",
      "性別      0.086586 -0.296544 -0.019427\n",
      "2-1     0.374089  0.740309 -0.139645\n",
      "2-2     0.501176  0.000037  0.316040\n",
      "2-3     0.013842  0.090598 -0.384269\n",
      "2-4    -0.484872 -0.235942  0.025435\n",
      "2-5     0.557271 -0.380689  0.038022\n",
      "2-6     0.704248 -0.161761 -0.314970\n",
      "2-7     0.509679  0.105271  0.192467\n",
      "3-2.数  -0.020691  0.387755  0.779283\n",
      "3-3.数   0.027421  0.759570  0.132765\n",
      "3-4.数   0.330001 -0.470629  0.578583\n",
      "3-5.数   0.318077  0.513712  0.201612\n",
      "Y_math  0.575879  0.063951 -0.085864\n"
     ]
    }
   ],
   "source": [
    "from factor_analyzer import FactorAnalyzer\n",
    "from sklearn.preprocessing import StandardScaler\n",
    "\n",
    "# データを標準化\n",
    "sc = StandardScaler()\n",
    "df_math_std = sc.fit_transform(df_math)\n",
    "\n",
    "# 因子分析のインスタンスを生成と適用\n",
    "fa = FactorAnalyzer(n_factors=3, rotation='varimax')\n",
    "fa.fit(df_math_std)\n",
    "\n",
    "# 因子負荷量を出力\n",
    "loadings = pd.DataFrame(fa.loadings_, columns=['第1因子', '第2因子', '第3因子'], index=df_math.columns)\n",
    "print(loadings)\n",
    "\n",
    "# 因子得点を算出\n",
    "factor_score = fa.transform(df_math_std)\n",
    "\n",
    "# 因子得点をデータフレームに変換\n",
    "factor_score_df = pd.DataFrame(factor_score, columns=['第1因子', '第2因子', '第3因子'])\n",
    "\n",
    "# 元のデータフレームと結合\n",
    "df_math = pd.concat([df_math, factor_score_df], axis=1)"
   ]
  },
  {
   "attachments": {},
   "cell_type": "markdown",
   "metadata": {},
   "source": [
    "# ロジスティック回帰"
   ]
  },
  {
   "cell_type": "code",
   "execution_count": 42,
   "metadata": {},
   "outputs": [
    {
     "name": "stdout",
     "output_type": "stream",
     "text": [
      "テストデータに対する正答率： 0.900\n"
     ]
    },
    {
     "data": {
      "image/png": "[encoded data removed]",
      "text/plain": [
       "<Figure size 700x200 with 1 Axes>"
      ]
     },
     "metadata": {},
     "output_type": "display_data"
    }
   ],
   "source": [
    "# 因子分析した結果をもとにロジスティック回帰を行う\n",
    "# ロジスティック回帰のインスタンスを生成\n",
    "from sklearn.linear_model import LogisticRegression\n",
    "lr = LogisticRegression(random_state=0)\n",
    "\n",
    "# ロジスティック回帰を実行\n",
    "#テストデータと分割\n",
    "from sklearn.model_selection import train_test_split\n",
    "X = df_math[['第1因子', '第2因子', '第3因子']]\n",
    "y = df_math['Y_math']\n",
    "X_train, X_test, y_train, y_test = train_test_split(X, y, test_size=0.3, random_state=0)\n",
    "\n",
    "lr.fit(X_train, y_train)\n",
    "\n",
    "# テストデータを予測\n",
    "y_pred = lr.predict(X_test)\n",
    "\n",
    "# テストデータに対する正答率を出力\n",
    "print('テストデータに対する正答率： %.3f' % accuracy_score(y_test, y_pred))\n",
    "\n",
    "#回帰係数を出力\n",
    "# lr.coef_を可視化\n",
    "coef_df = pd.DataFrame(lr.coef_, columns=['第1因子', '第2因子', '第3因子'])\n",
    "coef_df\n",
    "import matplotlib.pyplot as plt\n",
    "import seaborn as sns\n",
    "plt.figure(figsize=(7, 2))\n",
    "sns.set(font='IPAexGothic')\n",
    "sns.barplot(data=coef_df, orient='h')\n",
    "plt.show()\n",
    "\n"
   ]
  },
  {
   "cell_type": "code",
   "execution_count": null,
   "metadata": {},
   "outputs": [],
   "source": []
  }
 ],
 "metadata": {
  "kernelspec": {
   "display_name": "Python 3",
   "language": "python",
   "name": "python3"
  },
  "language_info": {
   "codemirror_mode": {
    "name": "ipython",
    "version": 3
   },
   "file_extension": ".py",
   "mimetype": "text/x-python",
   "name": "python",
   "nbconvert_exporter": "python",
   "pygments_lexer": "ipython3",
   "version": "3.9.12"
  },
  "orig_nbformat": 4
 },
 "nbformat": 4,
 "nbformat_minor": 2
}
