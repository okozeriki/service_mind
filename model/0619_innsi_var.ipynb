{
 "cells": [
  {
   "cell_type": "code",
   "execution_count": 78,
   "metadata": {},
   "outputs": [],
   "source": [
    "import pandas as pd\n",
    "import matplotlib.pyplot as plt\n",
    "import seaborn as sns\n",
    "import japanize_matplotlib\n",
    "\n",
    "from factor_analyzer import FactorAnalyzer\n",
    "from sklearn.preprocessing import StandardScaler\n",
    "\n",
    "from sklearn.linear_model import LogisticRegression\n",
    "from sklearn.model_selection import train_test_split"
   ]
  },
  {
   "attachments": {},
   "cell_type": "markdown",
   "metadata": {},
   "source": [
    "# 前処理"
   ]
  },
  {
   "cell_type": "code",
   "execution_count": 89,
   "metadata": {},
   "outputs": [],
   "source": [
    "df = pd.read_csv('../data/0617_result_question.csv')\n",
    "#列名クラスと人を消したい\n",
    "\n",
    "#点数が高いほど、遅延したくなる\n",
    "df[\"2-1\"] = df[\"2-1\"].map(lambda x:5-x)\n",
    "df[\"2-3\"] = df[\"2-3\"].map(lambda x:5-x)\n",
    "df[\"2-7\"] = df[\"2-7\"].map(lambda x:5-x)\n",
    "df[\"3-4.国\"] = df[\"3-4.国\"].map(lambda x:5-x)\n",
    "df[\"3-5.国\"] = df[\"3-5.国\"].map(lambda x:5-x)\n",
    "df[\"3-4.英\"] = df[\"3-4.英\"].map(lambda x:5-x)\n",
    "df[\"3-5.英\"] = df[\"3-5.英\"].map(lambda x:5-x)\n",
    "df[\"3-4.数\"] = df[\"3-4.数\"].map(lambda x:5-x)\n",
    "df[\"3-5.数\"] = df[\"3-5.数\"].map(lambda x:5-x)\n",
    "\n",
    "df = df.drop(['クラス', '人'], axis=1)\n",
    "df_math = df[[ '学年', '性別', '2-1', '2-2', '2-3', '2-4', '2-5', '2-6', '2-7', '3-1.数学', '3-2.数',\n",
    "       '3-3.数', '3-4.数', '3-5.数']]\n",
    "\n",
    "df_english = df[['学年', '性別', '2-1', '2-2', '2-3', '2-4', '2-5', '2-6', '2-7', '3-1.英語',  '3-2.英',  '3-3.英', '3-4.英', '3-5.英']]\n",
    "df_japanese = df[['学年', '性別', '2-1', '2-2', '2-3', '2-4', '2-5', '2-6', '2-7', '3-1.国',  '3-2.国',  '3-3.国', '3-4.国', '3-5.国']]\n",
    "\n",
    "#MBTI列以外で欠損ちがある行を削除\n",
    "df_math = df_math.dropna(subset=['学年', '性別', '2-1', '2-2', '2-3', '2-4', '2-5', '2-6', '2-7', '3-1.数学', '3-2.数','3-3.数', '3-4.数', '3-5.数'])\n",
    "#MBTI列以外で欠損ちがある行を削除\n",
    "df_english = df_english.dropna(subset=['学年', '性別', '2-1', '2-2', '2-3', '2-4', '2-5', '2-6', '2-7', '3-1.英語',  '3-2.英',  '3-3.英', '3-4.英', '3-5.英'])\n",
    "#MBTI列以外で欠損ちがある行を削除\n",
    "df_japanese = df_japanese.dropna(subset=['学年', '性別', '2-1', '2-2', '2-3', '2-4', '2-5', '2-6', '2-7', '3-1.国',  '3-2.国',  '3-3.国', '3-4.国', '3-5.国'])\n",
    "\n",
    "#数学のデータフレームを作成\n",
    "df_math[\"Y_math\"] = df_math[\"3-1.数学\"].map(lambda x: 1 if x == \"土\" or x == \"未\"  else 0)\n",
    "df_math = df_math.drop(\"3-1.数学\", axis=1)\n",
    "df_math = df_math.astype(int)\n",
    "df_math = df_math.reset_index(drop=True)\n",
    "\n",
    "#英語のデータフレームを作成\n",
    "df_english[\"Y_english\"] = df_english[\"3-1.英語\"].map(lambda x: 1 if x == \"土\" or x == \"未\"  else 0)\n",
    "df_english = df_english.drop(\"3-1.英語\", axis=1)\n",
    "df_english = df_english.astype(int)\n",
    "df_english = df_english.reset_index(drop=True)\n",
    "\n",
    "#国語のデータフレームを作成\n",
    "df_japanese[\"Y_japanese\"] = df_japanese[\"3-1.国\"].map(lambda x: 1 if x == \"土\" or x == \"未\"  else 0)\n",
    "df_japanese = df_japanese.drop(\"3-1.国\", axis=1)\n",
    "df_japanese = df_japanese.astype(int)\n",
    "df_japanese = df_japanese.reset_index(drop=True)"
   ]
  },
  {
   "attachments": {},
   "cell_type": "markdown",
   "metadata": {},
   "source": [
    "# 因子分析(バリマックス回転)"
   ]
  },
  {
   "cell_type": "code",
   "execution_count": 90,
   "metadata": {},
   "outputs": [],
   "source": [
    "def innsi(df):\n",
    "    # データを標準化\n",
    "    df = df.iloc[:, :-1]\n",
    "    sc = StandardScaler()\n",
    "    df_math_std = sc.fit_transform(df)\n",
    "\n",
    "    # 因子分析のインスタンスを生成と適用\n",
    "    fa = FactorAnalyzer(n_factors=3, rotation='varimax')\n",
    "    fa.fit(df_math_std)\n",
    "\n",
    "    # 因子負荷量を出力\n",
    "    loadings = pd.DataFrame(fa.loadings_, columns=['第1因子', '第2因子', '第3因子'], index=df.columns)\n",
    "    print(loadings)\n",
    "\n",
    "    # 因子得点を算出\n",
    "    factor_score = fa.transform(df_math_std)\n",
    "\n",
    "    # 因子得点をデータフレームに変換\n",
    "    factor_score_df = pd.DataFrame(factor_score, columns=['第1因子', '第2因子', '第3因子'])\n",
    "\n",
    "    # 元のデータフレームと結合\n",
    "    df_math = pd.concat([df, factor_score_df], axis=1)\n",
    "    return df_math"
   ]
  },
  {
   "cell_type": "code",
   "execution_count": 91,
   "metadata": {},
   "outputs": [
    {
     "name": "stdout",
     "output_type": "stream",
     "text": [
      "           第1因子      第2因子      第3因子\n",
      "学年    -0.148733  0.843741  0.033827\n",
      "性別    -0.269621  0.046088  0.148853\n",
      "2-1    0.821390  0.161594  0.151367\n",
      "2-2    0.162671 -0.179159  0.628023\n",
      "2-3    0.108119  0.376655 -0.064568\n",
      "2-4   -0.296756 -0.023454 -0.264673\n",
      "2-5   -0.209108  0.130782  0.741002\n",
      "2-6   -0.007295  0.324157  0.460908\n",
      "2-7    0.228517 -0.103396  0.488314\n",
      "3-2.数  0.332647 -0.839305 -0.021625\n",
      "3-3.数  0.745683 -0.159776 -0.112144\n",
      "3-4.数 -0.356392 -0.442285  0.580634\n",
      "3-5.数  0.638390 -0.124974  0.308088\n",
      "           第1因子      第2因子      第3因子\n",
      "学年    -0.021650  0.464198 -0.003636\n",
      "性別     0.180475  0.212176 -0.414155\n",
      "2-1    0.166326 -0.031774  0.441341\n",
      "2-2    0.718953 -0.261404  0.293429\n",
      "2-3   -0.156768  0.248158 -0.051113\n",
      "2-4   -0.131166 -0.361822 -0.512905\n",
      "2-5    0.754310  0.447167 -0.382313\n",
      "2-6    0.365799  0.498534  0.164768\n",
      "2-7    0.496066 -0.002826  0.104632\n",
      "3-2.英 -0.052068  0.673781  0.104477\n",
      "3-3.英  0.004191  0.229379  0.468210\n",
      "3-4.英  0.489477 -0.428549 -0.210755\n",
      "3-5.英  0.510083 -0.020373  0.005944\n",
      "           第1因子      第2因子      第3因子\n",
      "学年    -0.186321 -0.445821  0.122035\n",
      "性別    -0.104062  0.037727  0.717872\n",
      "2-1    0.302232  0.020282 -0.060714\n",
      "2-2    0.590603  0.051875 -0.018827\n",
      "2-3   -0.112085 -0.424632  0.008536\n",
      "2-4   -0.318130  0.100731 -0.112675\n",
      "2-5    0.437111 -0.194203  0.598956\n",
      "2-6    0.335722 -0.522434  0.276567\n",
      "2-7    0.633148  0.048706  0.157513\n",
      "3-2.国 -0.075135  0.484995  0.075411\n",
      "3-3.国 -0.198406  0.399666  0.364960\n",
      "3-4.国  0.971427  0.168067 -0.208304\n",
      "3-5.国  0.079072  0.461698  0.365154\n"
     ]
    }
   ],
   "source": [
    "df_math_innsi = innsi(df_math)\n",
    "df_english_innsi = innsi(df_english)\n",
    "df_japanese_innsi = innsi(df_japanese)"
   ]
  },
  {
   "attachments": {},
   "cell_type": "markdown",
   "metadata": {},
   "source": [
    "# ロジスティック回帰"
   ]
  },
  {
   "cell_type": "code",
   "execution_count": 92,
   "metadata": {},
   "outputs": [],
   "source": [
    "def lr(df,df_innsi):\n",
    "    \n",
    "    lr = LogisticRegression(random_state=0)\n",
    "\n",
    "    # ロジスティック回帰を実行\n",
    "    #テストデータと分割\n",
    "    \n",
    "    X = df_innsi[['第1因子', '第2因子', '第3因子']]\n",
    "    # target_string = \"Y\"\n",
    "    # columns_with_target_string = [col for col in df_innsi.columns if target_string in col]\n",
    "    y = df.iloc[:,-1:]\n",
    "    X_train, X_test, y_train, y_test = train_test_split(X, y, test_size=0.3, random_state=0)\n",
    "\n",
    "    lr.fit(X_train, y_train)\n",
    "\n",
    "    # テストデータを予測\n",
    "    y_pred = lr.predict(X_test)\n",
    "\n",
    "    # テストデータに対する正答率を出力\n",
    "    print('テストデータに対する正答率： %.3f' % accuracy_score(y_test, y_pred))\n",
    "\n",
    "    #回帰係数を出力\n",
    "    # lr.coef_を可視化\n",
    "    coef_df = pd.DataFrame(lr.coef_, columns=['第1因子', '第2因子', '第3因子'])\n",
    "    \n",
    "    plt.figure(figsize=(7, 2))\n",
    "    sns.set(font='IPAexGothic')\n",
    "    sns.barplot(data=coef_df, orient='h')\n",
    "    plt.show()"
   ]
  },
  {
   "cell_type": "code",
   "execution_count": 93,
   "metadata": {},
   "outputs": [
    {
     "name": "stderr",
     "output_type": "stream",
     "text": [
      "/usr/local/lib/python3.9/site-packages/sklearn/utils/validation.py:1143: DataConversionWarning: A column-vector y was passed when a 1d array was expected. Please change the shape of y to (n_samples, ), for example using ravel().\n",
      "  y = column_or_1d(y, warn=True)\n"
     ]
    },
    {
     "name": "stdout",
     "output_type": "stream",
     "text": [
      "テストデータに対する正答率： 0.800\n"
     ]
    },
    {
     "data": {
      "image/png": "[encoded data removed]",
      "text/plain": [
       "<Figure size 700x200 with 1 Axes>"
      ]
     },
     "metadata": {},
     "output_type": "display_data"
    }
   ],
   "source": [
    "lr(df_math,df_math_innsi)"
   ]
  },
  {
   "cell_type": "code",
   "execution_count": 94,
   "metadata": {},
   "outputs": [
    {
     "name": "stderr",
     "output_type": "stream",
     "text": [
      "/usr/local/lib/python3.9/site-packages/sklearn/utils/validation.py:1143: DataConversionWarning: A column-vector y was passed when a 1d array was expected. Please change the shape of y to (n_samples, ), for example using ravel().\n",
      "  y = column_or_1d(y, warn=True)\n"
     ]
    },
    {
     "name": "stdout",
     "output_type": "stream",
     "text": [
      "テストデータに対する正答率： 0.778\n"
     ]
    },
    {
     "data": {
      "image/png": "[encoded data removed]",
      "text/plain": [
       "<Figure size 700x200 with 1 Axes>"
      ]
     },
     "metadata": {},
     "output_type": "display_data"
    }
   ],
   "source": [
    "lr(df_english,df_english_innsi)"
   ]
  },
  {
   "cell_type": "code",
   "execution_count": 95,
   "metadata": {},
   "outputs": [
    {
     "name": "stderr",
     "output_type": "stream",
     "text": [
      "/usr/local/lib/python3.9/site-packages/sklearn/utils/validation.py:1143: DataConversionWarning: A column-vector y was passed when a 1d array was expected. Please change the shape of y to (n_samples, ), for example using ravel().\n",
      "  y = column_or_1d(y, warn=True)\n"
     ]
    },
    {
     "name": "stdout",
     "output_type": "stream",
     "text": [
      "テストデータに対する正答率： 0.500\n"
     ]
    },
    {
     "data": {
      "image/png": "[encoded data removed]",
      "text/plain": [
       "<Figure size 700x200 with 1 Axes>"
      ]
     },
     "metadata": {},
     "output_type": "display_data"
    }
   ],
   "source": [
    "lr(df_japanese,df_japanese_innsi)"
   ]
  },
  {
   "cell_type": "code",
   "execution_count": null,
   "metadata": {},
   "outputs": [],
   "source": []
  }
 ],
 "metadata": {
  "kernelspec": {
   "display_name": "Python 3",
   "language": "python",
   "name": "python3"
  },
  "language_info": {
   "codemirror_mode": {
    "name": "ipython",
    "version": 3
   },
   "file_extension": ".py",
   "mimetype": "text/x-python",
   "name": "python",
   "nbconvert_exporter": "python",
   "pygments_lexer": "ipython3",
   "version": "3.9.12"
  },
  "orig_nbformat": 4
 },
 "nbformat": 4,
 "nbformat_minor": 2
}
