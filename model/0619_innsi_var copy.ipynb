{
 "cells": [
  {
   "cell_type": "code",
   "execution_count": 30,
   "metadata": {},
   "outputs": [],
   "source": [
    "import pandas as pd\n",
    "import matplotlib.pyplot as plt\n",
    "import seaborn as sns\n",
    "import japanize_matplotlib\n",
    "\n",
    "from factor_analyzer import FactorAnalyzer\n",
    "from sklearn.preprocessing import StandardScaler\n",
    "\n",
    "from sklearn.linear_model import LogisticRegression\n",
    "from sklearn.model_selection import train_test_split\n",
    "from sklearn.metrics import accuracy_score"
   ]
  },
  {
   "attachments": {},
   "cell_type": "markdown",
   "metadata": {},
   "source": [
    "# 概要\n",
    "- 前処理\n",
    "- 因子分析(バリマックス回転)(性別学年のぞく)\n",
    "- ロジスティック(性別プラス学年プラス質問)\n",
    "- 交差検証(性別プラス学年プラス質問)"
   ]
  },
  {
   "attachments": {},
   "cell_type": "markdown",
   "metadata": {},
   "source": [
    "# 前処理"
   ]
  },
  {
   "cell_type": "code",
   "execution_count": 31,
   "metadata": {},
   "outputs": [],
   "source": [
    "df = pd.read_csv('../data/0617_result_question.csv')\n",
    "#列名クラスと人を消したい\n",
    "\n",
    "#点数が高いほど、遅延したくなる\n",
    "df[\"2-1\"] = df[\"2-1\"].map(lambda x:5-x)\n",
    "df[\"2-3\"] = df[\"2-3\"].map(lambda x:5-x)\n",
    "df[\"2-7\"] = df[\"2-7\"].map(lambda x:5-x)\n",
    "df[\"3-4.国\"] = df[\"3-4.国\"].map(lambda x:5-x)\n",
    "df[\"3-5.国\"] = df[\"3-5.国\"].map(lambda x:5-x)\n",
    "df[\"3-4.英\"] = df[\"3-4.英\"].map(lambda x:5-x)\n",
    "df[\"3-5.英\"] = df[\"3-5.英\"].map(lambda x:5-x)\n",
    "df[\"3-4.数\"] = df[\"3-4.数\"].map(lambda x:5-x)\n",
    "df[\"3-5.数\"] = df[\"3-5.数\"].map(lambda x:5-x)\n",
    "\n",
    "df = df.drop(['クラス', '人'], axis=1)\n",
    "df_math = df[[ '学年', '性別', '2-1', '2-2', '2-3', '2-4', '2-5', '2-6', '2-7', '3-1.数学', '3-2.数',\n",
    "       '3-3.数', '3-4.数', '3-5.数']]\n",
    "\n",
    "df_english = df[['学年', '性別', '2-1', '2-2', '2-3', '2-4', '2-5', '2-6', '2-7', '3-1.英語',  '3-2.英',  '3-3.英', '3-4.英', '3-5.英']]\n",
    "df_japanese = df[['学年', '性別', '2-1', '2-2', '2-3', '2-4', '2-5', '2-6', '2-7', '3-1.国',  '3-2.国',  '3-3.国', '3-4.国', '3-5.国']]\n",
    "\n",
    "#MBTI列以外で欠損ちがある行を削除\n",
    "df_math = df_math.dropna(subset=['学年', '性別', '2-1', '2-2', '2-3', '2-4', '2-5', '2-6', '2-7', '3-1.数学', '3-2.数','3-3.数', '3-4.数', '3-5.数'])\n",
    "#MBTI列以外で欠損ちがある行を削除\n",
    "df_english = df_english.dropna(subset=['学年', '性別', '2-1', '2-2', '2-3', '2-4', '2-5', '2-6', '2-7', '3-1.英語',  '3-2.英',  '3-3.英', '3-4.英', '3-5.英'])\n",
    "#MBTI列以外で欠損ちがある行を削除\n",
    "df_japanese = df_japanese.dropna(subset=['学年', '性別', '2-1', '2-2', '2-3', '2-4', '2-5', '2-6', '2-7', '3-1.国',  '3-2.国',  '3-3.国', '3-4.国', '3-5.国'])\n",
    "\n",
    "#数学のデータフレームを作成\n",
    "df_math[\"Y_math\"] = df_math[\"3-1.数学\"].map(lambda x: 1 if x == \"土\" or x == \"未\"  else 0)\n",
    "df_math = df_math.drop(\"3-1.数学\", axis=1)\n",
    "df_math = df_math.astype(int)\n",
    "df_math = df_math.reset_index(drop=True)\n",
    "\n",
    "#英語のデータフレームを作成\n",
    "df_english[\"Y_english\"] = df_english[\"3-1.英語\"].map(lambda x: 1 if x == \"土\" or x == \"未\"  else 0)\n",
    "df_english = df_english.drop(\"3-1.英語\", axis=1)\n",
    "df_english = df_english.astype(int)\n",
    "df_english = df_english.reset_index(drop=True)\n",
    "\n",
    "#国語のデータフレームを作成\n",
    "df_japanese[\"Y_japanese\"] = df_japanese[\"3-1.国\"].map(lambda x: 1 if x == \"土\" or x == \"未\"  else 0)\n",
    "df_japanese = df_japanese.drop(\"3-1.国\", axis=1)\n",
    "df_japanese = df_japanese.astype(int)\n",
    "df_japanese = df_japanese.reset_index(drop=True)"
   ]
  },
  {
   "attachments": {},
   "cell_type": "markdown",
   "metadata": {},
   "source": [
    "# 因子分析(バリマックス回転)"
   ]
  },
  {
   "cell_type": "code",
   "execution_count": 32,
   "metadata": {},
   "outputs": [],
   "source": [
    "def innsi(df):\n",
    "    # データを標準化\n",
    "    df2 = df.iloc[:, 2:-1]\n",
    "    sc = StandardScaler()\n",
    "    df_math_std = sc.fit_transform(df2)\n",
    "\n",
    "    # 因子分析のインスタンスを生成と適用\n",
    "    fa = FactorAnalyzer(n_factors=3, rotation='varimax')\n",
    "    fa.fit(df_math_std)\n",
    "\n",
    "    # 因子負荷量を出力\n",
    "    loadings = pd.DataFrame(fa.loadings_, columns=['第1因子', '第2因子', '第3因子'], index=df2.columns)\n",
    "    print(loadings)\n",
    "\n",
    "    # 因子得点を算出\n",
    "    factor_score = fa.transform(df_math_std)\n",
    "\n",
    "    # 因子得点をデータフレームに変換\n",
    "    factor_score_df = pd.DataFrame(factor_score, columns=['第1因子', '第2因子', '第3因子'])\n",
    "\n",
    "    # 元のデータフレームと結合\n",
    "    df_math = pd.concat([df, factor_score_df], axis=1)\n",
    "    return df_math"
   ]
  },
  {
   "cell_type": "code",
   "execution_count": 33,
   "metadata": {},
   "outputs": [
    {
     "name": "stdout",
     "output_type": "stream",
     "text": [
      "           第1因子      第2因子      第3因子\n",
      "2-1    0.791391  0.160633 -0.280977\n",
      "2-2    0.259016  0.521390  0.424957\n",
      "2-3    0.027926  0.052685 -0.419403\n",
      "2-4   -0.286728 -0.329387  0.130410\n",
      "2-5   -0.121059  0.669906  0.124630\n",
      "2-6   -0.052875  0.628683 -0.256848\n",
      "2-7    0.289049  0.434724  0.122227\n",
      "3-2.数  0.431028 -0.191028  0.466691\n",
      "3-3.数  0.787059 -0.210147  0.009565\n",
      "3-4.数 -0.218370  0.440308  0.752598\n",
      "3-5.数  0.658987  0.216092  0.144086\n",
      "           第1因子      第2因子      第3因子\n",
      "2-1    0.021410  0.058210  0.848270\n",
      "2-2    0.654327 -0.095021  0.342169\n",
      "2-3   -0.180947  0.131029  0.010419\n",
      "2-4   -0.038282 -0.616332 -0.354908\n",
      "2-5    0.627391  0.256453 -0.131553\n",
      "2-6    0.380457  0.565833 -0.022220\n",
      "2-7    0.432529  0.074657  0.288993\n",
      "3-2.英 -0.038992  0.597923 -0.141075\n",
      "3-3.英 -0.025833  0.319733  0.202359\n",
      "3-4.英  0.606897 -0.526395 -0.005491\n",
      "3-5.英  0.568842  0.054574 -0.035326\n",
      "           第1因子      第2因子      第3因子\n",
      "2-1    0.250685  0.244013  0.091722\n",
      "2-2    0.651301  0.019749  0.036603\n",
      "2-3   -0.134879  0.064241 -0.367906\n",
      "2-4   -0.102934 -0.994541  0.000677\n",
      "2-5    0.413444  0.142409 -0.030320\n",
      "2-6    0.212618  0.441137 -0.315777\n",
      "2-7    0.651696  0.120204  0.015273\n",
      "3-2.国 -0.019842 -0.125169  0.445070\n",
      "3-3.国 -0.137189  0.003210  0.663715\n",
      "3-4.国  0.916163  0.071478 -0.011119\n",
      "3-5.国  0.062303  0.200392  0.546178\n"
     ]
    }
   ],
   "source": [
    "df_math_innsi = innsi(df_math)\n",
    "df_english_innsi = innsi(df_english)\n",
    "df_japanese_innsi = innsi(df_japanese)"
   ]
  },
  {
   "attachments": {},
   "cell_type": "markdown",
   "metadata": {},
   "source": [
    "# ロジスティック回帰"
   ]
  },
  {
   "cell_type": "code",
   "execution_count": 48,
   "metadata": {},
   "outputs": [],
   "source": [
    "def lr(df,df_innsi):\n",
    "    \n",
    "    lr = LogisticRegression(random_state=0)\n",
    "\n",
    "    # ロジスティック回帰を実行\n",
    "    #テストデータと分割\n",
    "    \n",
    "    X = df_innsi[[\"学年\",\"性別\",'第1因子', '第2因子', '第3因子']]\n",
    "    y = df.iloc[:,-1:]\n",
    "    X_train, X_test, y_train, y_test = train_test_split(X, y, test_size=0.3, random_state=1)\n",
    "\n",
    "    lr.fit(X_train, y_train)\n",
    "\n",
    "    # テストデータを予測\n",
    "    y_pred = lr.predict(X_test)\n",
    "    print(y_pred)\n",
    "\n",
    "    # テストデータに対する正答率を出力\n",
    "    print('テストデータに対する正答率： %.3f' % accuracy_score(y_test, y_pred))\n",
    "\n",
    "    #回帰係数を出力\n",
    "    # lr.coef_を可視化\n",
    "    coef_df = pd.DataFrame(lr.coef_, columns=[\"学年\",\"性別\",'第1因子', '第2因子', '第3因子'])\n",
    "    \n",
    "    plt.figure(figsize=(7, 2))\n",
    "    sns.set(font='IPAexGothic')\n",
    "    sns.barplot(data=coef_df, orient='h')\n",
    "    plt.show()"
   ]
  },
  {
   "cell_type": "code",
   "execution_count": 49,
   "metadata": {},
   "outputs": [
    {
     "name": "stderr",
     "output_type": "stream",
     "text": [
      "/usr/local/lib/python3.9/site-packages/sklearn/utils/validation.py:1143: DataConversionWarning: A column-vector y was passed when a 1d array was expected. Please change the shape of y to (n_samples, ), for example using ravel().\n",
      "  y = column_or_1d(y, warn=True)\n"
     ]
    },
    {
     "name": "stdout",
     "output_type": "stream",
     "text": [
      "[1 0 0 1 1 1 0 1 1 1]\n",
      "テストデータに対する正答率： 1.000\n"
     ]
    },
    {
     "data": {
      "image/png": "[encoded data removed]",
      "text/plain": [
       "<Figure size 700x200 with 1 Axes>"
      ]
     },
     "metadata": {},
     "output_type": "display_data"
    }
   ],
   "source": [
    "lr(df_math,df_math_innsi)"
   ]
  },
  {
   "cell_type": "code",
   "execution_count": 50,
   "metadata": {},
   "outputs": [
    {
     "name": "stderr",
     "output_type": "stream",
     "text": [
      "/usr/local/lib/python3.9/site-packages/sklearn/utils/validation.py:1143: DataConversionWarning: A column-vector y was passed when a 1d array was expected. Please change the shape of y to (n_samples, ), for example using ravel().\n",
      "  y = column_or_1d(y, warn=True)\n"
     ]
    },
    {
     "name": "stdout",
     "output_type": "stream",
     "text": [
      "[1 1 1 1 1 1 1 0 1]\n",
      "テストデータに対する正答率： 0.667\n"
     ]
    },
    {
     "data": {
      "image/png": "[encoded data removed]",
      "text/plain": [
       "<Figure size 700x200 with 1 Axes>"
      ]
     },
     "metadata": {},
     "output_type": "display_data"
    }
   ],
   "source": [
    "lr(df_english,df_english_innsi)"
   ]
  },
  {
   "cell_type": "code",
   "execution_count": 51,
   "metadata": {},
   "outputs": [
    {
     "name": "stderr",
     "output_type": "stream",
     "text": [
      "/usr/local/lib/python3.9/site-packages/sklearn/utils/validation.py:1143: DataConversionWarning: A column-vector y was passed when a 1d array was expected. Please change the shape of y to (n_samples, ), for example using ravel().\n",
      "  y = column_or_1d(y, warn=True)\n"
     ]
    },
    {
     "name": "stdout",
     "output_type": "stream",
     "text": [
      "[1 0 1 1 1 1 1 1 1 1]\n",
      "テストデータに対する正答率： 0.500\n"
     ]
    },
    {
     "data": {
      "image/png": "[encoded data removed]",
      "text/plain": [
       "<Figure size 700x200 with 1 Axes>"
      ]
     },
     "metadata": {},
     "output_type": "display_data"
    }
   ],
   "source": [
    "lr(df_japanese,df_japanese_innsi)"
   ]
  },
  {
   "cell_type": "code",
   "execution_count": 43,
   "metadata": {},
   "outputs": [],
   "source": [
    "from sklearn.model_selection import cross_val_score\n",
    "\n",
    "def lr_cross_val(df, df_innsi):\n",
    "    \n",
    "    lr = LogisticRegression(random_state=0)\n",
    "\n",
    "    X = df_innsi[[\"学年\",\"性別\",'第1因子', '第2因子', '第3因子']]\n",
    "    y = df.iloc[:,-1:].values.ravel()\n",
    "\n",
    "    # ロジスティック回帰モデルの交差検証を実行\n",
    "    scores = cross_val_score(lr, X, y, cv=5)\n",
    "\n",
    "    # 各分割におけるスコア\n",
    "    for i, score in enumerate(scores):\n",
    "        print(f\"分割{i+1}: 正答率 = {score:.3f}\")\n",
    "\n",
    "    # 平均スコア\n",
    "    print(f\"平均正答率: {scores.mean():.3f}\")\n",
    "\n",
    "    # モデルを全データで再学習\n",
    "    lr.fit(X, y)\n",
    "\n",
    "    #回帰係数を出力\n",
    "    # lr.coef_を可視化\n",
    "    coef_df = pd.DataFrame(lr.coef_, columns=[\"学年\",\"性別\",'第1因子', '第2因子', '第3因子'])\n",
    "    \n",
    "    plt.figure(figsize=(7, 2))\n",
    "    sns.set(font='IPAexGothic')\n",
    "    sns.barplot(data=coef_df, orient='h')\n",
    "    plt.show()\n"
   ]
  },
  {
   "cell_type": "code",
   "execution_count": 44,
   "metadata": {},
   "outputs": [
    {
     "name": "stdout",
     "output_type": "stream",
     "text": [
      "分割1: 正答率 = 0.857\n",
      "分割2: 正答率 = 1.000\n",
      "分割3: 正答率 = 0.667\n",
      "分割4: 正答率 = 0.667\n",
      "分割5: 正答率 = 0.833\n",
      "平均正答率: 0.805\n"
     ]
    },
    {
     "data": {
      "image/png": "[encoded data removed]",
      "text/plain": [
       "<Figure size 700x200 with 1 Axes>"
      ]
     },
     "metadata": {},
     "output_type": "display_data"
    }
   ],
   "source": [
    "lr_cross_val(df_math,df_math_innsi)"
   ]
  },
  {
   "cell_type": "code",
   "execution_count": 45,
   "metadata": {},
   "outputs": [
    {
     "name": "stdout",
     "output_type": "stream",
     "text": [
      "分割1: 正答率 = 0.571\n",
      "分割2: 正答率 = 0.714\n",
      "分割3: 正答率 = 0.833\n",
      "分割4: 正答率 = 0.667\n",
      "分割5: 正答率 = 0.667\n",
      "平均正答率: 0.690\n"
     ]
    },
    {
     "data": {
      "image/png": "[encoded data removed]",
      "text/plain": [
       "<Figure size 700x200 with 1 Axes>"
      ]
     },
     "metadata": {},
     "output_type": "display_data"
    }
   ],
   "source": [
    "lr_cross_val(df_japanese,df_japanese_innsi)"
   ]
  },
  {
   "cell_type": "code",
   "execution_count": 46,
   "metadata": {},
   "outputs": [
    {
     "name": "stdout",
     "output_type": "stream",
     "text": [
      "分割1: 正答率 = 0.833\n",
      "分割2: 正答率 = 0.667\n",
      "分割3: 正答率 = 0.833\n",
      "分割4: 正答率 = 0.833\n",
      "分割5: 正答率 = 0.667\n",
      "平均正答率: 0.767\n"
     ]
    },
    {
     "data": {
      "image/png": "[encoded data removed]",
      "text/plain": [
       "<Figure size 700x200 with 1 Axes>"
      ]
     },
     "metadata": {},
     "output_type": "display_data"
    }
   ],
   "source": [
    "lr_cross_val(df_english,df_english_innsi)"
   ]
  },
  {
   "cell_type": "code",
   "execution_count": null,
   "metadata": {},
   "outputs": [],
   "source": []
  }
 ],
 "metadata": {
  "kernelspec": {
   "display_name": "Python 3",
   "language": "python",
   "name": "python3"
  },
  "language_info": {
   "codemirror_mode": {
    "name": "ipython",
    "version": 3
   },
   "file_extension": ".py",
   "mimetype": "text/x-python",
   "name": "python",
   "nbconvert_exporter": "python",
   "pygments_lexer": "ipython3",
   "version": "3.9.12"
  },
  "orig_nbformat": 4
 },
 "nbformat": 4,
 "nbformat_minor": 2
}
