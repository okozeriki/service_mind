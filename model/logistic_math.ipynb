{
 "cells": [
  {
   "cell_type": "code",
   "execution_count": 25,
   "metadata": {},
   "outputs": [],
   "source": [
    "import pandas as pd\n",
    "import japanize_matplotlib"
   ]
  },
  {
   "cell_type": "code",
   "execution_count": 26,
   "metadata": {},
   "outputs": [],
   "source": [
    "df = pd.read_csv('../data/0617_result_question.csv')\n",
    "#列名クラスを消したい\n",
    "df = df.drop('クラス', axis=1)\n",
    "\n",
    "df_math = df[[ '学年', '性別', '2-1', '2-2', '2-3', '2-4', '2-5', '2-6', '2-7', '3-1.数学', '3-2.数',\n",
    "       '3-3.数', '3-4.数', '3-5.数']]\n",
    "\n",
    "#MBTI列以外で欠損ちがある行を削除\n",
    "df_math = df_math.dropna(subset=['学年', '性別', '2-1', '2-2', '2-3', '2-4', '2-5', '2-6', '2-7', '3-1.数学', '3-2.数','3-3.数', '3-4.数', '3-5.数'])\n"
   ]
  },
  {
   "cell_type": "code",
   "execution_count": 27,
   "metadata": {},
   "outputs": [],
   "source": [
    "df_math[\"Y\"] = df_math[\"3-1.数学\"].map(lambda x: 1 if x == \"土\" or x == \"未\"  else 0)\n",
    "df_math = df_math.drop(\"3-1.数学\", axis=1)\n",
    "df_math = df_math.astype(int)"
   ]
  },
  {
   "cell_type": "code",
   "execution_count": 28,
   "metadata": {},
   "outputs": [
    {
     "name": "stdout",
     "output_type": "stream",
     "text": [
      "正解率0.7\n",
      "[[-0.37323508  0.07558949 -0.49587975  0.20577131  0.19982922 -0.60954976\n",
      "  -0.30072898  1.33276689 -0.75657479  0.28130172 -0.24470131  0.6472145\n",
      "   0.60668045]]\n",
      "[-2.76929664]\n",
      "Index(['学年', '性別', '2-1', '2-2', '2-3', '2-4', '2-5', '2-6', '2-7', '3-2.数',\n",
      "       '3-3.数', '3-4.数', '3-5.数'],\n",
      "      dtype='object')\n"
     ]
    },
    {
     "data": {
      "image/png": "[encoded data removed]",
      "text/plain": [
       "<Figure size 640x480 with 1 Axes>"
      ]
     },
     "metadata": {},
     "output_type": "display_data"
    }
   ],
   "source": [
    "#scikit learnでロジスティック回帰\n",
    "from sklearn.linear_model import LogisticRegression\n",
    "from sklearn.model_selection import train_test_split\n",
    "\n",
    "X = df_math.drop(\"Y\", axis=1)\n",
    "y = df_math[\"Y\"]\n",
    "\n",
    "X_train, X_test, y_train, y_test = train_test_split(X, y, test_size=0.3, random_state=0)\n",
    "\n",
    "\n",
    "lr = LogisticRegression()\n",
    "lr.fit(X_train, y_train)\n",
    "\n",
    "y_pred = lr.predict(X_test)\n",
    "\n",
    "#正解率\n",
    "from sklearn.metrics import accuracy_score\n",
    "print(f\"正解率{accuracy_score(y_test, y_pred)}\")\n",
    "\n",
    "\n",
    "\n",
    "#回帰係数\n",
    "print(lr.coef_)\n",
    "print(lr.intercept_)\n",
    "print(X.columns)\n",
    "\n",
    "#回帰係数のそれぞれの列名に対して棒グラフ\n",
    "import matplotlib.pyplot as plt\n",
    "%matplotlib inline\n",
    "\n",
    "plt.bar(X.columns, lr.coef_[0])\n",
    "plt.xticks(rotation=90)\n",
    "plt.show()"
   ]
  },
  {
   "cell_type": "code",
   "execution_count": 29,
   "metadata": {},
   "outputs": [],
   "source": [
    "#回帰係数が有意かどうかを検定\n",
    "from scipy import stats\n",
    "import numpy as np\n",
    "\n",
    "#回帰係数のp値を格納するためのリスト\n",
    "p_list = []\n",
    "\n",
    "#回帰係数のp値を検定\n",
    "for i in range(len(X.columns)):\n",
    "    p = stats.ttest_ind(X_train.iloc[:,i], y_train)\n",
    "    p_list.append(p[1])\n",
    "\n",
    "#p値のリストをnumpy配列に変換\n",
    "p_list = np.array(p_list)\n",
    "\n",
    "#p値のリストをデータフレームに変換\n",
    "p_df = pd.DataFrame(p_list, index=X.columns, columns=[\"p値\"])\n",
    "\n"
   ]
  },
  {
   "cell_type": "code",
   "execution_count": 35,
   "metadata": {},
   "outputs": [
    {
     "data": {
      "text/html": [
       "<div>\n",
       "<style scoped>\n",
       "    .dataframe tbody tr th:only-of-type {\n",
       "        vertical-align: middle;\n",
       "    }\n",
       "\n",
       "    .dataframe tbody tr th {\n",
       "        vertical-align: top;\n",
       "    }\n",
       "\n",
       "    .dataframe thead th {\n",
       "        text-align: right;\n",
       "    }\n",
       "</style>\n",
       "<table border=\"1\" class=\"dataframe\">\n",
       "  <thead>\n",
       "    <tr style=\"text-align: right;\">\n",
       "      <th></th>\n",
       "      <th>p値</th>\n",
       "    </tr>\n",
       "  </thead>\n",
       "  <tbody>\n",
       "    <tr>\n",
       "      <th>学年</th>\n",
       "      <td>1.829548e-06</td>\n",
       "    </tr>\n",
       "    <tr>\n",
       "      <th>2-1</th>\n",
       "      <td>1.683613e-06</td>\n",
       "    </tr>\n",
       "    <tr>\n",
       "      <th>2-2</th>\n",
       "      <td>8.234054e-04</td>\n",
       "    </tr>\n",
       "    <tr>\n",
       "      <th>2-3</th>\n",
       "      <td>5.003321e-05</td>\n",
       "    </tr>\n",
       "    <tr>\n",
       "      <th>2-4</th>\n",
       "      <td>7.634139e-06</td>\n",
       "    </tr>\n",
       "    <tr>\n",
       "      <th>2-5</th>\n",
       "      <td>1.386260e-14</td>\n",
       "    </tr>\n",
       "    <tr>\n",
       "      <th>2-6</th>\n",
       "      <td>4.300286e-13</td>\n",
       "    </tr>\n",
       "    <tr>\n",
       "      <th>2-7</th>\n",
       "      <td>1.946141e-06</td>\n",
       "    </tr>\n",
       "    <tr>\n",
       "      <th>3-2.数</th>\n",
       "      <td>2.133150e-08</td>\n",
       "    </tr>\n",
       "    <tr>\n",
       "      <th>3-3.数</th>\n",
       "      <td>6.899076e-09</td>\n",
       "    </tr>\n",
       "    <tr>\n",
       "      <th>3-4.数</th>\n",
       "      <td>1.840553e-15</td>\n",
       "    </tr>\n",
       "    <tr>\n",
       "      <th>3-5.数</th>\n",
       "      <td>1.624212e-12</td>\n",
       "    </tr>\n",
       "  </tbody>\n",
       "</table>\n",
       "</div>"
      ],
      "text/plain": [
       "                 p値\n",
       "学年     1.829548e-06\n",
       "2-1    1.683613e-06\n",
       "2-2    8.234054e-04\n",
       "2-3    5.003321e-05\n",
       "2-4    7.634139e-06\n",
       "2-5    1.386260e-14\n",
       "2-6    4.300286e-13\n",
       "2-7    1.946141e-06\n",
       "3-2.数  2.133150e-08\n",
       "3-3.数  6.899076e-09\n",
       "3-4.数  1.840553e-15\n",
       "3-5.数  1.624212e-12"
      ]
     },
     "execution_count": 35,
     "metadata": {},
     "output_type": "execute_result"
    }
   ],
   "source": [
    "#p値が0.05より小さい列名のデータフレームを表示\n",
    "p_df[p_df[\"p値\"] < 0.01]\n"
   ]
  }
 ],
 "metadata": {
  "kernelspec": {
   "display_name": "Python 3",
   "language": "python",
   "name": "python3"
  },
  "language_info": {
   "codemirror_mode": {
    "name": "ipython",
    "version": 3
   },
   "file_extension": ".py",
   "mimetype": "text/x-python",
   "name": "python",
   "nbconvert_exporter": "python",
   "pygments_lexer": "ipython3",
   "version": "3.9.12"
  },
  "orig_nbformat": 4
 },
 "nbformat": 4,
 "nbformat_minor": 2
}
