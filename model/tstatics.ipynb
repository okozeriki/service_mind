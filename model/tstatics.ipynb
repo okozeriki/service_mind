{
 "cells": [
  {
   "cell_type": "code",
   "execution_count": 1,
   "metadata": {},
   "outputs": [],
   "source": [
    "import pandas as pd\n",
    "import numpy as np\n",
    "from scipy import stats\n",
    "#dfの数の表示領域\n",
    "pd.set_option('display.max_columns', 100)\n",
    "pd.set_option('display.max_rows', 100)"
   ]
  },
  {
   "attachments": {},
   "cell_type": "markdown",
   "metadata": {},
   "source": [
    "# t検定"
   ]
  },
  {
   "attachments": {},
   "cell_type": "markdown",
   "metadata": {},
   "source": [
    "## 1.読み込み"
   ]
  },
  {
   "cell_type": "code",
   "execution_count": 2,
   "metadata": {},
   "outputs": [],
   "source": [
    "df = pd.read_csv('../data/0617_result_question.csv')"
   ]
  },
  {
   "attachments": {},
   "cell_type": "markdown",
   "metadata": {},
   "source": [
    "## 2.前処理"
   ]
  },
  {
   "cell_type": "code",
   "execution_count": 3,
   "metadata": {},
   "outputs": [],
   "source": [
    "\n",
    "def preprocess(df):\n",
    "    \"\"\"点数の処理\"\"\"\n",
    "    # 宿題をやらないような要因ほど点数が高く\n",
    "    change_score_columns = [\"2-1\", \"2-3\", \"2-7\", \"3-4.国\", \"3-5.国\", \"3-4.英\", \"3-5.英\", \"3-4.数\", \"3-5.数\"]\n",
    "    for col in change_score_columns:\n",
    "        df[col] = df[col].map(lambda x: 5 - x)\n",
    "\n",
    "    \"\"\"不必要な列の削除\"\"\"\n",
    "    df = df.drop(['クラス', '人',\"MBTI\"], axis=1)\n",
    "\n",
    "    \"\"\"欠損値の処理\"\"\"\n",
    "    cols_except_mbti = [col for col in df.columns if col != 'MBTI']\n",
    "    df = df.dropna(subset=cols_except_mbti)\n",
    "\n",
    "    \"\"\"従属変数の処理(当日だったら1、それ以外は0)\"\"\"\n",
    "    Ys = [col for col in df.columns if \"3-1\" in col]\n",
    "    for col in Ys:\n",
    "        df[col] = df[col].map(lambda x: 1 if x == \"土\" or x == \"未\"  else 0)\n",
    "\n",
    "    \"\"\"int型変換\"\"\"\n",
    "    cols_to_convert = df.select_dtypes(include=[np.number]).columns\n",
    "    df[cols_to_convert] = df[cols_to_convert].astype(int)\n",
    "\n",
    "\n",
    "    return df\n",
    "df = preprocess(df)"
   ]
  },
  {
   "attachments": {},
   "cell_type": "markdown",
   "metadata": {},
   "source": [
    "## 3.t検定"
   ]
  },
  {
   "cell_type": "code",
   "execution_count": 4,
   "metadata": {},
   "outputs": [
    {
     "name": "stdout",
     "output_type": "stream",
     "text": [
      "学年 of group 1 does not meet the assumption of normality.\n",
      "学年 of group 2 does not meet the assumption of normality.\n",
      "学年 meets the assumption of homoscedasticity.\n",
      "性別 of group 1 does not meet the assumption of normality.\n",
      "性別 of group 2 does not meet the assumption of normality.\n",
      "性別 meets the assumption of homoscedasticity.\n",
      "2-1 of group 1 does not meet the assumption of normality.\n",
      "2-1 of group 2 meets the assumption of normality.\n",
      "2-1 meets the assumption of homoscedasticity.\n",
      "2-2 of group 1 does not meet the assumption of normality.\n",
      "2-2 of group 2 does not meet the assumption of normality.\n",
      "2-2 meets the assumption of homoscedasticity.\n",
      "2-3 of group 1 does not meet the assumption of normality.\n",
      "2-3 of group 2 does not meet the assumption of normality.\n",
      "2-3 meets the assumption of homoscedasticity.\n",
      "2-4 of group 1 does not meet the assumption of normality.\n",
      "2-4 of group 2 meets the assumption of normality.\n",
      "2-4 meets the assumption of homoscedasticity.\n",
      "2-5 of group 1 does not meet the assumption of normality.\n",
      "2-5 of group 2 does not meet the assumption of normality.\n",
      "2-5 meets the assumption of homoscedasticity.\n",
      "2-6 of group 1 does not meet the assumption of normality.\n",
      "2-6 of group 2 meets the assumption of normality.\n",
      "2-6 does not meet the assumption of homoscedasticity.\n",
      "2-7 of group 1 does not meet the assumption of normality.\n",
      "2-7 of group 2 meets the assumption of normality.\n",
      "2-7 meets the assumption of homoscedasticity.\n",
      "3-1.国 of group 1 does not meet the assumption of normality.\n",
      "3-1.国 of group 2 does not meet the assumption of normality.\n",
      "3-1.国 meets the assumption of homoscedasticity.\n",
      "3-1.数学 of group 1 meets the assumption of normality.\n",
      "3-1.数学 of group 2 meets the assumption of normality.\n",
      "3-1.数学 does not meet the assumption of homoscedasticity.\n",
      "3-1.英語 of group 1 does not meet the assumption of normality.\n",
      "3-1.英語 of group 2 does not meet the assumption of normality.\n",
      "3-1.英語 does not meet the assumption of homoscedasticity.\n",
      "3-2.国 of group 1 does not meet the assumption of normality.\n",
      "3-2.国 of group 2 does not meet the assumption of normality.\n",
      "3-2.国 meets the assumption of homoscedasticity.\n",
      "3-2.数 of group 1 does not meet the assumption of normality.\n",
      "3-2.数 of group 2 meets the assumption of normality.\n",
      "3-2.数 meets the assumption of homoscedasticity.\n",
      "3-2.英 of group 1 does not meet the assumption of normality.\n",
      "3-2.英 of group 2 meets the assumption of normality.\n",
      "3-2.英 meets the assumption of homoscedasticity.\n",
      "3-3.国 of group 1 does not meet the assumption of normality.\n",
      "3-3.国 of group 2 does not meet the assumption of normality.\n",
      "3-3.国 meets the assumption of homoscedasticity.\n",
      "3-3.数 of group 1 does not meet the assumption of normality.\n",
      "3-3.数 of group 2 meets the assumption of normality.\n",
      "3-3.数 meets the assumption of homoscedasticity.\n",
      "3-3.英 of group 1 does not meet the assumption of normality.\n",
      "3-3.英 of group 2 does not meet the assumption of normality.\n",
      "3-3.英 meets the assumption of homoscedasticity.\n",
      "3-4.国 of group 1 does not meet the assumption of normality.\n",
      "3-4.国 of group 2 does not meet the assumption of normality.\n",
      "3-4.国 meets the assumption of homoscedasticity.\n",
      "3-4.数 of group 1 does not meet the assumption of normality.\n",
      "3-4.数 of group 2 does not meet the assumption of normality.\n",
      "3-4.数 meets the assumption of homoscedasticity.\n",
      "3-4.英 of group 1 does not meet the assumption of normality.\n",
      "3-4.英 of group 2 does not meet the assumption of normality.\n",
      "3-4.英 meets the assumption of homoscedasticity.\n",
      "3-5.国 of group 1 does not meet the assumption of normality.\n",
      "3-5.国 of group 2 meets the assumption of normality.\n",
      "3-5.国 meets the assumption of homoscedasticity.\n",
      "3-5.数 of group 1 does not meet the assumption of normality.\n",
      "3-5.数 of group 2 does not meet the assumption of normality.\n",
      "3-5.数 meets the assumption of homoscedasticity.\n",
      "3-5.英 of group 1 does not meet the assumption of normality.\n",
      "3-5.英 of group 2 does not meet the assumption of normality.\n",
      "3-5.英 meets the assumption of homoscedasticity.\n"
     ]
    },
    {
     "name": "stderr",
     "output_type": "stream",
     "text": [
      "/usr/local/lib/python3.9/site-packages/scipy/stats/_morestats.py:1813: UserWarning: Input data for shapiro has range zero. The results may not be accurate.\n",
      "  warnings.warn(\"Input data for shapiro has range zero. The results \"\n",
      "/usr/local/lib/python3.9/site-packages/scipy/stats/_morestats.py:2573: RuntimeWarning: divide by zero encountered in log\n",
      "  numer = (Ntot*1.0 - k) * log(spsq) - np.sum((Ni - 1.0)*log(ssq), axis=0)\n",
      "/usr/local/lib/python3.9/site-packages/scipy/stats/_morestats.py:2573: RuntimeWarning: invalid value encountered in scalar subtract\n",
      "  numer = (Ntot*1.0 - k) * log(spsq) - np.sum((Ni - 1.0)*log(ssq), axis=0)\n"
     ]
    }
   ],
   "source": [
    "# 正規性を検定（シャピロ・ウィルク検定）\n",
    "def check_normality(data):\n",
    "    _, p_value = stats.shapiro(data)\n",
    "    return p_value > 0.05  # p > 0.05 なら正規性が仮定できる\n",
    "\n",
    "# 等分散性を検定（バートレット検定）\n",
    "def check_homoscedasticity(data1, data2):\n",
    "    _, p_value = stats.bartlett(data1, data2)\n",
    "    return p_value > 0.05  # p > 0.05 なら等分散性が仮定できる\n",
    "\n",
    "# 各カラムに対して正規性と等分散性を検定\n",
    "for col in df.columns:\n",
    "    group1 = df[df['3-1.数学'] == 1][col]\n",
    "    group2 = df[df['3-1.数学'] == 0][col]\n",
    "    \n",
    "    if check_normality(group1):\n",
    "        print(f'{col} of group 1 meets the assumption of normality.')\n",
    "    else:\n",
    "        print(f'{col} of group 1 does not meet the assumption of normality.')\n",
    "    \n",
    "    if check_normality(group2):\n",
    "        print(f'{col} of group 2 meets the assumption of normality.')\n",
    "    else:\n",
    "        print(f'{col} of group 2 does not meet the assumption of normality.')\n",
    "    \n",
    "    if check_homoscedasticity(group1, group2):\n",
    "        print(f'{col} meets the assumption of homoscedasticity.')\n",
    "    else:\n",
    "        print(f'{col} does not meet the assumption of homoscedasticity.')\n",
    "\n"
   ]
  },
  {
   "attachments": {},
   "cell_type": "markdown",
   "metadata": {},
   "source": [
    "### t検定ビミョい　正規性や分散の均一性の仮定仮定満たせていない"
   ]
  },
  {
   "cell_type": "code",
   "execution_count": 8,
   "metadata": {},
   "outputs": [
    {
     "name": "stdout",
     "output_type": "stream",
     "text": [
      "有意のある列\n",
      "国語 : []\n",
      "\n",
      "数学 : ['2-4', '2-6', '3-2.国']\n",
      "\n",
      "英語 : ['2-3', '3-3.国']\n",
      "\n"
     ]
    }
   ],
   "source": [
    "#t検定をしたい\n",
    "def t(df, col,subject):\n",
    "    \"\"\"t検定を行う\"\"\"\n",
    "    #subjectが国語だったら3-1.国を抜き出す\n",
    "    subject_map = {\n",
    "    \"国語\": '3-1.国',\n",
    "    \"英語\": '3-1.英語',\n",
    "    \"数学\": '3-1.数学'\n",
    "}\n",
    "\n",
    "    column_name = subject_map.get(subject)\n",
    "\n",
    "    if column_name:\n",
    "        df1 = df[df[column_name] == 1][col]\n",
    "        df2 = df[df[column_name] == 0][col]\n",
    "\n",
    "    t, p = stats.ttest_ind(df1, df2, equal_var=False)\n",
    "    return t, p\n",
    "\n",
    "#有意水準\n",
    "alpha = 0.1\n",
    "\n",
    "#t検定を行う\n",
    "def t_test(df,columns_to_test,subject):\n",
    "    \"\"\"t検定を行う\"\"\"\n",
    "    significant_cols = []\n",
    "    for col in columns_to_test:\n",
    "        f_stat, p_val = t(df, col,subject)\n",
    "        if p_val < alpha:\n",
    "            significant_cols.append(col)\n",
    "    return significant_cols\n",
    "\n",
    "columns_to_test = [col for col in df.columns if not  \"3-1\" in col]\n",
    "print(\"有意のある列\")\n",
    "for s in [\"国語\",\"数学\",\"英語\"]:\n",
    "    print(f\"{s} : {t_test(df,columns_to_test,s)}\")\n",
    "    print(\"\")"
   ]
  },
  {
   "attachments": {},
   "cell_type": "markdown",
   "metadata": {},
   "source": [
    "## 4.分散分析"
   ]
  },
  {
   "cell_type": "code",
   "execution_count": 12,
   "metadata": {},
   "outputs": [],
   "source": [
    "df = pd.read_csv('../data/0617_result_question.csv')\n",
    "def preprocess(df):\n",
    "    \"\"\"点数の処理\"\"\"\n",
    "    # 宿題をやらないような要因ほど点数が高く\n",
    "    change_score_columns = [\"2-1\", \"2-3\", \"2-7\", \"3-4.国\", \"3-5.国\", \"3-4.英\", \"3-5.英\", \"3-4.数\", \"3-5.数\"]\n",
    "    for col in change_score_columns:\n",
    "        df[col] = df[col].map(lambda x: 5 - x)\n",
    "\n",
    "    \"\"\"不必要な列の削除\"\"\"\n",
    "    df = df.drop(['クラス', '人',\"MBTI\"], axis=1)\n",
    "\n",
    "    \"\"\"欠損値の処理\"\"\"\n",
    "    cols_except_mbti = [col for col in df.columns if col != 'MBTI']\n",
    "    df = df.dropna(subset=cols_except_mbti)\n",
    "\n",
    "    \"\"\"従属変数の処理(当日だったら1、それ以外は0)\"\"\"\n",
    "    Ys = [col for col in df.columns if \"3-1\" in col]\n",
    "    for col in Ys:\n",
    "        df[col] = df[col].map(lambda x: 1 if x == \"土\" else(2 if x == \"未\" else 0))\n",
    "\n",
    "    \"\"\"int型変換\"\"\"\n",
    "    cols_to_convert = df.select_dtypes(include=[np.number]).columns\n",
    "    df[cols_to_convert] = df[cols_to_convert].astype(int)\n",
    "\n",
    "\n",
    "    return df\n",
    "df = preprocess(df)"
   ]
  },
  {
   "cell_type": "code",
   "execution_count": 14,
   "metadata": {},
   "outputs": [
    {
     "name": "stdout",
     "output_type": "stream",
     "text": [
      "有意のある列\n",
      "国語 : ['3-3.英']\n",
      "\n",
      "数学 : ['2-4', '2-6', '3-3.英']\n",
      "\n",
      "英語 : ['3-2.国']\n",
      "\n"
     ]
    }
   ],
   "source": [
    "#分散分析\n",
    "def anova(df, col,subject):\n",
    "    \"\"\"分散分析を行う\"\"\"\n",
    "\n",
    "    subject_map = {\n",
    "    \"国語\": '3-1.国',\n",
    "    \"英語\": '3-1.英語',\n",
    "    \"数学\": '3-1.数学'}\n",
    "    column_name = subject_map.get(subject)\n",
    "\n",
    "    if column_name:\n",
    "        group0 = df[df[column_name] == 0][col]\n",
    "        group1 = df[df[column_name] == 1][col]\n",
    "        group2 = df[df[column_name] == 2][col]\n",
    "    f, p = stats.f_oneway(group0, group1, group2)\n",
    "    return f, p\n",
    "\n",
    "# 有意水準\n",
    "alpha = 0.05\n",
    "\n",
    "# 有意水準を下回るカラムを格納するリスト\n",
    "def anova_test(df, columns_to_test,subject):\n",
    "    significant_cols = []\n",
    "    for col in columns_to_test:\n",
    "        f_stat, p_val = anova(df, col,subject)\n",
    "        if p_val < alpha:\n",
    "            significant_cols.append(col)\n",
    "    return significant_cols\n",
    "\n",
    "\n",
    "columns_to_test = [col for col in df.columns if not  \"3-1\" in col]\n",
    "print(\"有意のある列\")\n",
    "for s in [\"国語\",\"数学\",\"英語\"]:\n",
    "    print(f\"{s} : {anova_test(df,columns_to_test,s)}\")\n",
    "    print(\"\")"
   ]
  },
  {
   "cell_type": "code",
   "execution_count": null,
   "metadata": {},
   "outputs": [],
   "source": []
  }
 ],
 "metadata": {
  "kernelspec": {
   "display_name": "Python 3",
   "language": "python",
   "name": "python3"
  },
  "language_info": {
   "codemirror_mode": {
    "name": "ipython",
    "version": 3
   },
   "file_extension": ".py",
   "mimetype": "text/x-python",
   "name": "python",
   "nbconvert_exporter": "python",
   "pygments_lexer": "ipython3",
   "version": "3.9.12"
  },
  "orig_nbformat": 4
 },
 "nbformat": 4,
 "nbformat_minor": 2
}
